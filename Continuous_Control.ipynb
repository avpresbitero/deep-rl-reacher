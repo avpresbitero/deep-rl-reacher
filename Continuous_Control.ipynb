{
 "cells": [
  {
   "cell_type": "markdown",
   "metadata": {},
   "source": [
    "# DeepRLReacher: Continuous Control\n",
    "\n",
    "---\n",
    "\n",
    "In this notebook, you will learn how to use the Unity ML-Agents environment for the second project of the [Deep Reinforcement Learning Nanodegree](https://www.udacity.com/course/deep-reinforcement-learning-nanodegree--nd893) program.\n",
    "\n",
    "### 1. Start the Environment\n",
    "\n",
    "We begin by importing the necessary packages.  If the code cell below returns an error, please revisit the project instructions to double-check that you have installed [Unity ML-Agents](https://github.com/Unity-Technologies/ml-agents/blob/master/docs/Installation.md) and [NumPy](http://www.numpy.org/)."
   ]
  },
  {
   "cell_type": "code",
   "execution_count": 5,
   "metadata": {},
   "outputs": [],
   "source": [
    "from unityagents import UnityEnvironment\n",
    "import numpy as np"
   ]
  },
  {
   "cell_type": "markdown",
   "metadata": {},
   "source": [
    "Next, we will start the environment!  **_Before running the code cell below_**, change the `file_name` parameter to match the location of the Unity environment that you downloaded.\n",
    "\n",
    "- **Mac**: `\"path/to/Reacher.app\"`\n",
    "- **Windows** (x86): `\"path/to/Reacher_Windows_x86/Reacher.exe\"`\n",
    "- **Windows** (x86_64): `\"path/to/Reacher_Windows_x86_64/Reacher.exe\"`\n",
    "- **Linux** (x86): `\"path/to/Reacher_Linux/Reacher.x86\"`\n",
    "- **Linux** (x86_64): `\"path/to/Reacher_Linux/Reacher.x86_64\"`\n",
    "- **Linux** (x86, headless): `\"path/to/Reacher_Linux_NoVis/Reacher.x86\"`\n",
    "- **Linux** (x86_64, headless): `\"path/to/Reacher_Linux_NoVis/Reacher.x86_64\"`\n",
    "\n",
    "For instance, if you are using a Mac, then you downloaded `Reacher.app`.  If this file is in the same folder as the notebook, then the line below should appear as follows:\n",
    "```\n",
    "env = UnityEnvironment(file_name=\"Reacher.app\")\n",
    "```"
   ]
  },
  {
   "cell_type": "code",
   "execution_count": null,
   "metadata": {},
   "outputs": [],
   "source": [
    "env = UnityEnvironment(\"Reacher_Windows_x86_64/Reacher.exe\")"
   ]
  },
  {
   "cell_type": "markdown",
   "metadata": {},
   "source": [
    "Environments contain **_brains_** which are responsible for deciding the actions of their associated agents. Here we check for the first brain available, and set it as the default brain we will be controlling from Python."
   ]
  },
  {
   "cell_type": "code",
   "execution_count": null,
   "metadata": {},
   "outputs": [],
   "source": [
    "# get the default brain\n",
    "brain_name = env.brain_names[0]\n",
    "brain = env.brains[brain_name]"
   ]
  },
  {
   "cell_type": "markdown",
   "metadata": {},
   "source": [
    "### 2. Examine the State and Action Spaces\n",
    "\n",
    "In this environment, a double-jointed arm can move to target locations. A reward of `+0.1` is provided for each step that the agent's hand is in the goal location. Thus, the goal of your agent is to maintain its position at the target location for as many time steps as possible.\n",
    "\n",
    "The observation space consists of `33` variables corresponding to position, rotation, velocity, and angular velocities of the arm.  Each action is a vector with four numbers, corresponding to torque applicable to two joints.  Every entry in the action vector must be a number between `-1` and `1`.\n",
    "\n",
    "Run the code cell below to print some information about the environment."
   ]
  },
  {
   "cell_type": "code",
   "execution_count": null,
   "metadata": {},
   "outputs": [],
   "source": [
    "# reset the environment\n",
    "env_info = env.reset(train_mode=True)[brain_name]\n",
    "\n",
    "# number of agents\n",
    "num_agents = len(env_info.agents)\n",
    "print('Number of agents:', num_agents)\n",
    "\n",
    "# size of each action\n",
    "action_size = brain.vector_action_space_size\n",
    "print('Size of each action:', action_size)\n",
    "\n",
    "# examine the state space \n",
    "states = env_info.vector_observations\n",
    "state_size = states.shape[1]\n",
    "print('There are {} agents. Each observes a state with length: {}'.format(states.shape[0], state_size))\n",
    "print('The state for the first agent looks like:', states[0])"
   ]
  },
  {
   "cell_type": "markdown",
   "metadata": {},
   "source": [
    "### 3. Take Random Actions in the Environment\n",
    "\n",
    "In the next code cell, you will learn how to use the Python API to control the agent and receive feedback from the environment.\n",
    "\n",
    "Once this cell is executed, you will watch the agent's performance, if it selects an action at random with each time step.  A window should pop up that allows you to observe the agent, as it moves through the environment.  \n",
    "\n",
    "Of course, as part of the project, you'll have to change the code so that the agent is able to use its experience to gradually choose better actions when interacting with the environment!"
   ]
  },
  {
   "cell_type": "code",
   "execution_count": null,
   "metadata": {},
   "outputs": [],
   "source": [
    "env_info = env.reset(train_mode=False)[brain_name]     # reset the environment    \n",
    "states = env_info.vector_observations                  # get the current state (for each agent)\n",
    "scores = np.zeros(num_agents)                          # initialize the score (for each agent)\n",
    "while True:\n",
    "    actions = np.random.randn(num_agents, action_size) # select an action (for each agent)\n",
    "    actions = np.clip(actions, -1, 1)                  # all actions between -1 and 1\n",
    "    env_info = env.step(actions)[brain_name]           # send all actions to the environment\n",
    "    next_states = env_info.vector_observations         # get next state (for each agent)\n",
    "    rewards = env_info.rewards                         # get reward (for each agent)\n",
    "    dones = env_info.local_done                        # see if episode finished\n",
    "    scores += env_info.rewards                         # update the score (for each agent)\n",
    "    states = next_states                               # roll over states to next time step\n",
    "    if np.any(dones):                                  # exit loop if episode finished\n",
    "        break\n",
    "print('Total score (averaged over agents) this episode: {}'.format(np.mean(scores)))"
   ]
  },
  {
   "cell_type": "markdown",
   "metadata": {},
   "source": [
    "When finished, you can close the environment."
   ]
  },
  {
   "cell_type": "code",
   "execution_count": null,
   "metadata": {},
   "outputs": [],
   "source": [
    "env.close()"
   ]
  },
  {
   "cell_type": "markdown",
   "metadata": {},
   "source": [
    "### 4. It's Your Turn!\n",
    "\n",
    "Now it's your turn to train your own agent to solve the environment!  When training the environment, set `train_mode=True`, so that the line for resetting the environment looks like the following:\n",
    "```python\n",
    "env_info = env.reset(train_mode=True)[brain_name]\n",
    "```"
   ]
  },
  {
   "cell_type": "markdown",
   "metadata": {},
   "source": [
    "### Deep Deterministic Plicy Gradient[(DDPG)](https://arxiv.org/pdf/1509.02971.pdf)  \n",
    "#### 1. Import the Necessary Packages"
   ]
  },
  {
   "cell_type": "code",
   "execution_count": 1,
   "metadata": {},
   "outputs": [
    {
     "name": "stderr",
     "output_type": "stream",
     "text": [
      "INFO:unityagents:\n",
      "'Academy' started successfully!\n",
      "Unity Academy name: Academy\n",
      "        Number of Brains: 1\n",
      "        Number of External Brains : 1\n",
      "        Lesson number : 0\n",
      "        Reset Parameters :\n",
      "\t\tgoal_speed -> 1.0\n",
      "\t\tgoal_size -> 5.0\n",
      "Unity brain name: ReacherBrain\n",
      "        Number of Visual Observations (per agent): 0\n",
      "        Vector Observation space type: continuous\n",
      "        Vector Observation space size (per agent): 33\n",
      "        Number of stacked Vector Observation: 1\n",
      "        Vector Action space type: continuous\n",
      "        Vector Action space size (per agent): 4\n",
      "        Vector Action descriptions: , , , \n"
     ]
    }
   ],
   "source": [
    "import torch\n",
    "import numpy as np\n",
    "import os\n",
    "import random\n",
    "from collections import deque\n",
    "\n",
    "import matplotlib.pyplot as plt\n",
    "%matplotlib inline\n",
    "\n",
    "# widget bar to display progress\n",
    "# !pip install progressbar\n",
    "# import progressbar as pb\n",
    "\n",
    "from unityagents import UnityEnvironment\n",
    "env = UnityEnvironment(\"Reacher_Windows_x86_64/Reacher.exe\")\n",
    "\n",
    "from ddpg_agent import Agent"
   ]
  },
  {
   "cell_type": "markdown",
   "metadata": {},
   "source": [
    "#### 2. Instantiate the Environment and Agent"
   ]
  },
  {
   "cell_type": "code",
   "execution_count": 2,
   "metadata": {},
   "outputs": [
    {
     "name": "stdout",
     "output_type": "stream",
     "text": [
      "Number of agents: 20\n",
      "Size of each action: 4\n",
      "There are 20 agents. Each observes a state with length: 33\n",
      "The state for the f+irst agent looks like: [ 0.00000000e+00 -4.00000000e+00  0.00000000e+00  1.00000000e+00\n",
      " -0.00000000e+00 -0.00000000e+00 -4.37113883e-08  0.00000000e+00\n",
      "  0.00000000e+00  0.00000000e+00  0.00000000e+00  0.00000000e+00\n",
      "  0.00000000e+00  0.00000000e+00 -1.00000000e+01  0.00000000e+00\n",
      "  1.00000000e+00 -0.00000000e+00 -0.00000000e+00 -4.37113883e-08\n",
      "  0.00000000e+00  0.00000000e+00  0.00000000e+00  0.00000000e+00\n",
      "  0.00000000e+00  0.00000000e+00  5.75471878e+00 -1.00000000e+00\n",
      "  5.55726624e+00  0.00000000e+00  1.00000000e+00  0.00000000e+00\n",
      " -1.68164849e-01]\n"
     ]
    }
   ],
   "source": [
    "# get the default brain\n",
    "brain_name = env.brain_names[0]\n",
    "brain = env.brains[brain_name]\n",
    "\n",
    "# reset the environment\n",
    "env_info = env.reset(train_mode=True)[brain_name]\n",
    "\n",
    "# number of agents\n",
    "num_agents = len(env_info.agents)\n",
    "print('Number of agents:', num_agents)\n",
    "\n",
    "# size of each action\n",
    "action_size = brain.vector_action_space_size\n",
    "print('Size of each action:', action_size)\n",
    "\n",
    "# size of state space \n",
    "states = env_info.vector_observations\n",
    "state_size = states.shape[1]\n",
    "print('There are {} agents. Each observes a state with length: {}'.format(states.shape[0], state_size))\n",
    "print('The state for the f+irst agent looks like:', states[0])\n",
    "\n",
    "agent = Agent(state_size=state_size, action_size=action_size, random_seed=1)"
   ]
  },
  {
   "cell_type": "markdown",
   "metadata": {},
   "source": [
    "#### 3.Train the Agent"
   ]
  },
  {
   "cell_type": "code",
   "execution_count": 4,
   "metadata": {
    "scrolled": true
   },
   "outputs": [
    {
     "name": "stdout",
     "output_type": "stream",
     "text": [
      "Episode 1\tAverage Score: 1.6\tMoving Avgs Score: 1.6\n",
      "Episode 1\tMax Score: 1.6....checkpoint....\n",
      "Episode 2\tAverage Score: 1.0\tMoving Avgs Score: 1.3\n",
      "Episode 3\tAverage Score: 0.7\tMoving Avgs Score: 1.1\n",
      "Episode 4\tAverage Score: 0.7\tMoving Avgs Score: 1.0\n",
      "Episode 5\tAverage Score: 1.0\tMoving Avgs Score: 1.0\n",
      "Episode 6\tAverage Score: 1.3\tMoving Avgs Score: 1.0\n",
      "Episode 7\tAverage Score: 2.7\tMoving Avgs Score: 1.3\n",
      "Episode 7\tMax Score: 2.7....checkpoint....\n",
      "Episode 8\tAverage Score: 2.2\tMoving Avgs Score: 1.4\n",
      "Episode 9\tAverage Score: 3.6\tMoving Avgs Score: 1.6\n",
      "Episode 9\tMax Score: 3.6....checkpoint....\n",
      "Episode 10\tAverage Score: 4.8\tMoving Avgs Score: 2.0\n",
      "Episode 10\tMax Score: 4.8....checkpoint....\n",
      "Episode 11\tAverage Score: 6.4\tMoving Avgs Score: 2.4\n",
      "Episode 11\tMax Score: 6.4....checkpoint....\n",
      "Episode 12\tAverage Score: 7.5\tMoving Avgs Score: 2.8\n",
      "Episode 12\tMax Score: 7.5....checkpoint....\n",
      "Episode 13\tAverage Score: 5.4\tMoving Avgs Score: 3.0\n",
      "Episode 14\tAverage Score: 9.2\tMoving Avgs Score: 3.4\n",
      "Episode 14\tMax Score: 9.2....checkpoint....\n",
      "Episode 15\tAverage Score: 12.3\tMoving Avgs Score: 4.0\n",
      "Episode 15\tMax Score: 12.3....checkpoint....\n",
      "Episode 16\tAverage Score: 13.3\tMoving Avgs Score: 4.6\n",
      "Episode 16\tMax Score: 13.3....checkpoint....\n",
      "Episode 17\tAverage Score: 12.8\tMoving Avgs Score: 5.1\n",
      "Episode 18\tAverage Score: 15.5\tMoving Avgs Score: 5.7\n",
      "Episode 18\tMax Score: 15.5....checkpoint....\n",
      "Episode 19\tAverage Score: 9.8\tMoving Avgs Score: 5.9\n",
      "Episode 20\tAverage Score: 13.7\tMoving Avgs Score: 6.3\n",
      "Episode 21\tAverage Score: 15.7\tMoving Avgs Score: 6.7\n",
      "Episode 21\tMax Score: 15.7....checkpoint....\n",
      "Episode 22\tAverage Score: 15.5\tMoving Avgs Score: 7.1\n",
      "Episode 23\tAverage Score: 18.2\tMoving Avgs Score: 7.6\n",
      "Episode 23\tMax Score: 18.2....checkpoint....\n",
      "Episode 24\tAverage Score: 14.4\tMoving Avgs Score: 7.9\n",
      "Episode 25\tAverage Score: 11.9\tMoving Avgs Score: 8.1\n",
      "Episode 26\tAverage Score: 15.9\tMoving Avgs Score: 8.4\n",
      "Episode 27\tAverage Score: 18.2\tMoving Avgs Score: 8.7\n",
      "Episode 27\tMax Score: 18.2....checkpoint....\n",
      "Episode 28\tAverage Score: 15.8\tMoving Avgs Score: 9.0\n",
      "Episode 29\tAverage Score: 19.1\tMoving Avgs Score: 9.3\n",
      "Episode 29\tMax Score: 19.1....checkpoint....\n",
      "Episode 30\tAverage Score: 17.6\tMoving Avgs Score: 9.6\n",
      "Episode 31\tAverage Score: 17.9\tMoving Avgs Score: 9.9\n",
      "Episode 32\tAverage Score: 24.2\tMoving Avgs Score: 10.3\n",
      "Episode 32\tMax Score: 24.2....checkpoint....\n",
      "Episode 33\tAverage Score: 22.9\tMoving Avgs Score: 10.7\n",
      "Episode 34\tAverage Score: 24.3\tMoving Avgs Score: 11.1\n",
      "Episode 34\tMax Score: 24.3....checkpoint....\n",
      "Episode 35\tAverage Score: 23.1\tMoving Avgs Score: 11.4\n",
      "Episode 36\tAverage Score: 20.5\tMoving Avgs Score: 11.7\n",
      "Episode 37\tAverage Score: 28.8\tMoving Avgs Score: 12.2\n",
      "Episode 37\tMax Score: 28.8....checkpoint....\n",
      "Episode 38\tAverage Score: 20.1\tMoving Avgs Score: 12.4\n",
      "Episode 39\tAverage Score: 28.5\tMoving Avgs Score: 12.8\n",
      "Episode 40\tAverage Score: 22.6\tMoving Avgs Score: 13.0\n",
      "Episode 41\tAverage Score: 23.5\tMoving Avgs Score: 13.3\n",
      "Episode 42\tAverage Score: 30.5\tMoving Avgs Score: 13.7\n",
      "Episode 42\tMax Score: 30.5....checkpoint....\n",
      "Episode 43\tAverage Score: 26.0\tMoving Avgs Score: 14.0\n",
      "Episode 44\tAverage Score: 30.8\tMoving Avgs Score: 14.4\n",
      "Episode 44\tMax Score: 30.8....checkpoint....\n",
      "Episode 45\tAverage Score: 27.4\tMoving Avgs Score: 14.6\n",
      "Episode 46\tAverage Score: 29.6\tMoving Avgs Score: 15.0\n",
      "Episode 47\tAverage Score: 28.4\tMoving Avgs Score: 15.3\n",
      "Episode 48\tAverage Score: 25.4\tMoving Avgs Score: 15.5\n",
      "Episode 49\tAverage Score: 26.4\tMoving Avgs Score: 15.7\n",
      "Episode 50\tAverage Score: 31.4\tMoving Avgs Score: 16.0\n",
      "Episode 50\tMax Score: 31.4....checkpoint....\n",
      "Episode 51\tAverage Score: 29.5\tMoving Avgs Score: 16.3\n",
      "Episode 52\tAverage Score: 32.1\tMoving Avgs Score: 16.6\n",
      "Episode 52\tMax Score: 32.1....checkpoint....\n",
      "Episode 53\tAverage Score: 30.1\tMoving Avgs Score: 16.8\n",
      "Episode 54\tAverage Score: 27.2\tMoving Avgs Score: 17.0\n",
      "Episode 55\tAverage Score: 35.0\tMoving Avgs Score: 17.4\n",
      "Episode 55\tMax Score: 35.0....checkpoint....\n",
      "Episode 56\tAverage Score: 35.5\tMoving Avgs Score: 17.7\n",
      "Episode 56\tMax Score: 35.5....checkpoint....\n",
      "Episode 57\tAverage Score: 32.1\tMoving Avgs Score: 17.9\n",
      "Episode 58\tAverage Score: 30.1\tMoving Avgs Score: 18.1\n",
      "Episode 59\tAverage Score: 28.2\tMoving Avgs Score: 18.3\n",
      "Episode 60\tAverage Score: 29.2\tMoving Avgs Score: 18.5\n",
      "Episode 61\tAverage Score: 35.8\tMoving Avgs Score: 18.8\n",
      "Episode 61\tMax Score: 35.8....checkpoint....\n",
      "Episode 62\tAverage Score: 36.1\tMoving Avgs Score: 19.1\n",
      "Episode 62\tMax Score: 36.1....checkpoint....\n",
      "Episode 63\tAverage Score: 34.8\tMoving Avgs Score: 19.3\n",
      "Episode 64\tAverage Score: 33.8\tMoving Avgs Score: 19.5\n",
      "Episode 65\tAverage Score: 34.7\tMoving Avgs Score: 19.8\n",
      "Episode 66\tAverage Score: 32.6\tMoving Avgs Score: 20.0\n",
      "Episode 67\tAverage Score: 34.2\tMoving Avgs Score: 20.2\n",
      "Episode 68\tAverage Score: 35.1\tMoving Avgs Score: 20.4\n",
      "Episode 69\tAverage Score: 33.9\tMoving Avgs Score: 20.6\n",
      "Episode 70\tAverage Score: 38.2\tMoving Avgs Score: 20.8\n",
      "Episode 70\tMax Score: 38.2....checkpoint....\n",
      "Episode 71\tAverage Score: 35.6\tMoving Avgs Score: 21.0\n",
      "Episode 72\tAverage Score: 36.3\tMoving Avgs Score: 21.3\n",
      "Episode 73\tAverage Score: 35.3\tMoving Avgs Score: 21.4\n",
      "Episode 74\tAverage Score: 33.8\tMoving Avgs Score: 21.6\n",
      "Episode 75\tAverage Score: 35.3\tMoving Avgs Score: 21.8\n",
      "Episode 76\tAverage Score: 34.1\tMoving Avgs Score: 22.0\n",
      "Episode 77\tAverage Score: 34.4\tMoving Avgs Score: 22.1\n",
      "Episode 78\tAverage Score: 34.6\tMoving Avgs Score: 22.3\n",
      "Episode 79\tAverage Score: 30.6\tMoving Avgs Score: 22.4\n",
      "Episode 80\tAverage Score: 30.0\tMoving Avgs Score: 22.5\n",
      "Episode 81\tAverage Score: 32.5\tMoving Avgs Score: 22.6\n",
      "Episode 82\tAverage Score: 35.3\tMoving Avgs Score: 22.8\n",
      "Episode 83\tAverage Score: 35.1\tMoving Avgs Score: 22.9\n",
      "Episode 84\tAverage Score: 33.4\tMoving Avgs Score: 23.0\n",
      "Episode 85\tAverage Score: 36.9\tMoving Avgs Score: 23.2\n",
      "Episode 86\tAverage Score: 35.7\tMoving Avgs Score: 23.3\n",
      "Episode 87\tAverage Score: 35.1\tMoving Avgs Score: 23.5\n",
      "Episode 88\tAverage Score: 37.9\tMoving Avgs Score: 23.6\n",
      "Episode 89\tAverage Score: 36.5\tMoving Avgs Score: 23.8\n",
      "Episode 90\tAverage Score: 34.8\tMoving Avgs Score: 23.9\n",
      "Episode 91\tAverage Score: 33.0\tMoving Avgs Score: 24.0\n",
      "Episode 92\tAverage Score: 34.7\tMoving Avgs Score: 24.1\n",
      "Episode 93\tAverage Score: 36.9\tMoving Avgs Score: 24.3\n",
      "Episode 94\tAverage Score: 33.8\tMoving Avgs Score: 24.4\n",
      "Episode 95\tAverage Score: 35.7\tMoving Avgs Score: 24.5\n",
      "Episode 96\tAverage Score: 35.0\tMoving Avgs Score: 24.6\n",
      "Episode 97\tAverage Score: 36.0\tMoving Avgs Score: 24.7\n",
      "Episode 98\tAverage Score: 33.8\tMoving Avgs Score: 24.8\n",
      "Episode 99\tAverage Score: 35.3\tMoving Avgs Score: 24.9\n",
      "Episode 100\tAverage Score: 34.1\tMoving Avgs Score: 25.0\n",
      "Episode 101\tAverage Score: 30.9\tMoving Avgs Score: 25.3\n",
      "Episode 102\tAverage Score: 35.6\tMoving Avgs Score: 25.6\n",
      "Episode 103\tAverage Score: 35.2\tMoving Avgs Score: 26.0\n",
      "Episode 104\tAverage Score: 31.9\tMoving Avgs Score: 26.3\n",
      "Episode 105\tAverage Score: 31.9\tMoving Avgs Score: 26.6\n",
      "Episode 106\tAverage Score: 30.2\tMoving Avgs Score: 26.9\n",
      "Episode 107\tAverage Score: 35.6\tMoving Avgs Score: 27.2\n",
      "Episode 108\tAverage Score: 34.5\tMoving Avgs Score: 27.5\n",
      "Episode 109\tAverage Score: 35.1\tMoving Avgs Score: 27.9\n",
      "Episode 110\tAverage Score: 35.3\tMoving Avgs Score: 28.2\n",
      "Episode 111\tAverage Score: 35.1\tMoving Avgs Score: 28.5\n",
      "Episode 112\tAverage Score: 32.3\tMoving Avgs Score: 28.7\n",
      "Episode 113\tAverage Score: 32.5\tMoving Avgs Score: 29.0\n",
      "Episode 114\tAverage Score: 34.5\tMoving Avgs Score: 29.2\n",
      "Episode 115\tAverage Score: 34.6\tMoving Avgs Score: 29.4\n",
      "Episode 116\tAverage Score: 31.1\tMoving Avgs Score: 29.6\n",
      "Episode 117\tAverage Score: 32.7\tMoving Avgs Score: 29.8\n",
      "Episode 118\tAverage Score: 36.5\tMoving Avgs Score: 30.0\n",
      "\n",
      " Solved in Episode 118\tAverage Score: 36.5\tMoving Avgs Score: 30.0\n"
     ]
    }
   ],
   "source": [
    "def ddpg(n_episodes=1000, max_t=1000, print_every=1):\n",
    "    \"\"\"\n",
    "    Params\n",
    "    ======\n",
    "        n_episodes (int): maximum number of training episodes\n",
    "        max_t (int): maximum number of timestep per episode\n",
    "        print_every: (int): interval to printing results\n",
    "    \"\"\"\n",
    "    \n",
    "    if os.path.exists('checkpoint_actor.pth'):\n",
    "        agent.actor_local.load_state_dict(torch.load('checkpoint_actor.pth'))\n",
    "        \n",
    "    if os.path.exists('checkpoint_critic.pth'):\n",
    "        agent.critic_local.load_state_dict(torch.load('checkpoint_critic.pth'))\n",
    "        \n",
    "    \n",
    "    scores_window = deque(maxlen=100)  # mean scores of the last 100 episodes\n",
    "    moving_avgs = []                   # moving averages \n",
    "    mean_scores = []                   # mean scores \n",
    "    max_score = -np.inf                # the best mean score\n",
    "\n",
    "    for i_episode in range(1, n_episodes+1):\n",
    "        env_info = env.reset(train_mode=True)[brain_name]       # reset environment\n",
    "        states = env_info.vector_observations                   # get current state for each agent      \n",
    "        scores = np.zeros(num_agents)                           # initialize score for each agent\n",
    "        agent.reset()\n",
    "        for t in range(max_t):\n",
    "            actions = agent.act(states, add_noise=True)         # select an action\n",
    "            env_info = env.step(actions)[brain_name]            # send all actions to the environment\n",
    "            next_states = env_info.vector_observations          # get next state (for each agent)\n",
    "            rewards = env_info.rewards                          # get reward (for each agent)\n",
    "            dones = env_info.local_done                         # see if episode finished\n",
    "            \n",
    "            for state, action, reward, next_state, done in zip(states, actions, rewards, next_states, dones):\n",
    "                agent.step(state, action, reward, next_state, done, t) \n",
    "              \n",
    "            scores += env_info.rewards                          # update the score (for each agent)\n",
    "            states = next_states                                # roll over states to next time step\n",
    "            if np.any(dones):                                   # exit loop if episode finished\n",
    "                break\n",
    "           \n",
    "        mean_scores.append(np.mean(scores))                     # get mean score for all 20 agents for each episode\n",
    "        scores_window.append(mean_scores[-1])                   # get the latest mean score and append in score window\n",
    "        moving_avgs.append(np.mean(scores_window))              # get the mean per window of 100 episodes\n",
    "                \n",
    "        if i_episode % print_every == 0:\n",
    "            print(f'\\rEpisode {i_episode}\\tAverage Score: {mean_scores[-1]:.1f}\\tMoving Avgs Score: {moving_avgs[-1]:.1f}')\n",
    "        if mean_scores[-1] > max_score:\n",
    "            torch.save(agent.actor_local.state_dict(), 'checkpoint_actor.pth')\n",
    "            torch.save(agent.critic_local.state_dict(), 'checkpoint_critic.pth')\n",
    "            max_score = mean_scores[-1] \n",
    "            print(f'\\rEpisode {i_episode}\\tMax Score: {max_score:.1f}....checkpoint....')            \n",
    "        if i_episode >= 100 and moving_avgs[-1] >= 30.0:\n",
    "            torch.save(agent.actor_local.state_dict(), 'solved_actor.pth')\n",
    "            torch.save(agent.critic_local.state_dict(), 'solved_critic.pth')\n",
    "            print(f'\\n Solved in Episode {i_episode}\\tAverage Score: {mean_scores[-1]:.1f}\\tMoving Avgs Score: {moving_avgs[-1]:.1f}')\n",
    "            break\n",
    "            \n",
    "    return mean_scores, moving_avgs\n",
    "        \n",
    "scores, moving = ddpg()"
   ]
  },
  {
   "cell_type": "code",
   "execution_count": 5,
   "metadata": {},
   "outputs": [
    {
     "data": {
      "image/png": "[encoded data removed]",
      "text/plain": [
       "<Figure size 1152x432 with 2 Axes>"
      ]
     },
     "metadata": {
      "needs_background": "light"
     },
     "output_type": "display_data"
    }
   ],
   "source": [
    "ls = 16\n",
    "ts = 18\n",
    "\n",
    "# plot the scores and moving average\n",
    "fig, (ax1, ax2) = plt.subplots(1, 2, figsize=(16,6))\n",
    "\n",
    "ax1.plot(np.arange(len(scores)), scores)\n",
    "ax1.set_ylabel('Score', fontsize=ls)\n",
    "ax1.set_xlabel('Episode #', fontsize=ls)\n",
    "ax1.set_title(\"Scores\", fontsize=ts)\n",
    "\n",
    "ax2.axhline(y=13., xmin=0.0, xmax=1.0, color='r', linestyle='--', linewidth=0.7, alpha=0.9)\n",
    "ax2.plot(np.arange(len(moving)), moving)\n",
    "ax2.set_ylabel('Average Score', fontsize=ls)\n",
    "ax2.set_xlabel('Episode #', fontsize=ls)\n",
    "ax2.set_title(\"Moving average scores\", fontsize=ts)\n",
    "\n",
    "fig.savefig('images/ddpg_result.jpg', format='jpg')\n",
    "fig.tight_layout()\n",
    "\n",
    "plt.show()"
   ]
  },
  {
   "cell_type": "markdown",
   "metadata": {},
   "source": [
    "#### 4. Watch the Agent"
   ]
  },
  {
   "cell_type": "code",
   "execution_count": 6,
   "metadata": {},
   "outputs": [
    {
     "name": "stdout",
     "output_type": "stream",
     "text": [
      "Total score (averaged over agents) this episode: 26.3\n"
     ]
    }
   ],
   "source": [
    "agent.actor_local.load_state_dict(torch.load('solved_actor.pth'))\n",
    "agent.critic_local.load_state_dict(torch.load('solved_critic.pth'))\n",
    "\n",
    "env_info = env.reset(train_mode=False)[brain_name]      \n",
    "states = env_info.vector_observations\n",
    "\n",
    "while True:\n",
    "    actions = agent.act(states, add_noise=False)                        \n",
    "    env_info = env.step(actions)[brain_name]\n",
    "    next_states = env_info.vector_observations\n",
    "    rewards = env_info.rewards\n",
    "    dones = env_info.local_done\n",
    "    scores + env_info.rewards\n",
    "    states = next_states\n",
    "    if np.any(dones):\n",
    "        break\n",
    "print(f'Total score (averaged over agents) this episode: {np.mean(scores):.1f}')"
   ]
  },
  {
   "cell_type": "code",
   "execution_count": 7,
   "metadata": {},
   "outputs": [],
   "source": [
    "env.close()"
   ]
  },
  {
   "cell_type": "code",
   "execution_count": null,
   "metadata": {},
   "outputs": [],
   "source": []
  }
 ],
 "metadata": {
  "kernelspec": {
   "display_name": "drl",
   "language": "python",
   "name": "drl"
  },
  "language_info": {
   "codemirror_mode": {
    "name": "ipython",
    "version": 3
   },
   "file_extension": ".py",
   "mimetype": "text/x-python",
   "name": "python",
   "nbconvert_exporter": "python",
   "pygments_lexer": "ipython3",
   "version": "3.6.13"
  }
 },
 "nbformat": 4,
 "nbformat_minor": 2
}
